{
 "cells": [
  {
   "cell_type": "code",
   "execution_count": 95,
   "metadata": {},
   "outputs": [],
   "source": [
    "from multiprocessing import Pool\n",
    "import numpy as np\n",
    "from functools import reduce\n",
    "from bs4 import BeautifulSoup\n",
    "from selenium import webdriver\n",
    "import string\n",
    "from nltk.tokenize import word_tokenize\n",
    "from nltk.corpus import stopwords\n",
    "import requests\n",
    "import cv2\n",
    "import numpy as np\n",
    "from skimage.metrics import structural_similarity as ssim\n",
    "from difflib import SequenceMatcher\n",
    "import requests\n",
    "from unidecode import unidecode"
   ]
  },
  {
   "cell_type": "code",
   "execution_count": 96,
   "metadata": {},
   "outputs": [
    {
     "data": {
      "text/plain": [
       "148"
      ]
     },
     "execution_count": 96,
     "metadata": {},
     "output_type": "execute_result"
    }
   ],
   "source": [
    "# list of all colors extracted from https://www.w3schools.com/colors/colors_names.asp\n",
    "all_colors=['AliceBlue','AntiqueWhite','Aqua','Aquamarine','Azure','Beige','Bisque','Black','BlanchedAlmond','Blue','BlueViolet','Brown','BurlyWood','CadetBlue','Chartreuse','Chocolate','Coral','CornflowerBlue','Cornsilk','Crimson','Cyan','DarkBlue','DarkCyan','DarkGoldenRod','DarkGray','DarkGrey','DarkGreen','DarkKhaki','DarkMagenta','DarkOliveGreen','DarkOrange','DarkOrchid','DarkRed','DarkSalmon','DarkSeaGreen','DarkSlateBlue','DarkSlateGray','DarkSlateGrey','DarkTurquoise','DarkViolet','DeepPink','DeepSkyBlue','DimGray','DimGrey','DodgerBlue','FireBrick','FloralWhite','ForestGreen','Fuchsia','Gainsboro','GhostWhite','Gold','GoldenRod','Gray','Grey','Green','GreenYellow','HoneyDew','HotPink','IndianRed','Indigo','Ivory','Khaki','Lavender','LavenderBlush','LawnGreen','LemonChiffon','LightBlue','LightCoral','LightCyan','LightGoldenRodYellow','LightGray','LightGrey','LightGreen','LightPink','LightSalmon','LightSeaGreen','LightSkyBlue','LightSlateGray','LightSlateGrey','LightSteelBlue','LightYellow','Lime','LimeGreen','Linen','Magenta','Maroon','MediumAquaMarine','MediumBlue','MediumOrchid','MediumPurple','MediumSeaGreen','MediumSlateBlue','MediumSpringGreen','MediumTurquoise','MediumVioletRed','MidnightBlue','MintCream','MistyRose','Moccasin','NavajoWhite','Navy','OldLace','Olive','OliveDrab','Orange','OrangeRed','Orchid','PaleGoldenRod','PaleGreen','PaleTurquoise','PaleVioletRed','PapayaWhip','PeachPuff','Peru','Pink','Plum','PowderBlue','Purple','RebeccaPurple','Red','RosyBrown','RoyalBlue','SaddleBrown','Salmon','SandyBrown','SeaGreen','SeaShell','Sienna','Silver','SkyBlue','SlateBlue','SlateGray','SlateGrey','Snow','SpringGreen','SteelBlue','Tan','Teal','Thistle','Tomato','Turquoise','Violet','Wheat','White','WhiteSmoke','Yellow','YellowGreen']\n",
    "len(all_colors)"
   ]
  },
  {
   "cell_type": "code",
   "execution_count": null,
   "metadata": {},
   "outputs": [],
   "source": []
  },
  {
   "cell_type": "code",
   "execution_count": 97,
   "metadata": {},
   "outputs": [],
   "source": [
    "def preProcessColor(color):\n",
    "    final_color = \"\"\n",
    "    for i in color:\n",
    "        if i.isupper():\n",
    "            final_color += ' '\n",
    "        final_color+=i.lower()\n",
    "    return final_color.strip().split(' ')"
   ]
  },
  {
   "cell_type": "code",
   "execution_count": 98,
   "metadata": {},
   "outputs": [
    {
     "name": "stdout",
     "output_type": "stream",
     "text": [
      "[['arsenic'], ['ash', 'gray'], ['battleship', 'gray'], ['black', 'coral'], ['blue', 'gray'], ['cadet', 'gray'], ['carbon', 'gray'], ['charcoal'], ['cinereous'], ['cool', 'gray'], ['dark', 'gray'], ['davy’s', 'gray'], ['deep', 'space', 'sparkle'], ['dim', 'gray'], ['gainsboro'], ['gray'], ['gray', 'cloud'], ['gray', 'dolphin'], ['gray', 'goose'], ['gray-green'], ['gray', 'wolf'], ['glaucous'], ['gunmetal'], ['jet'], ['jet', 'gray'], ['light', 'gray'], ['light', 'slate', 'gray'], ['marengo'], ['medium', 'gray'], ['nevada'], ['nickel'], ['old', 'silver'], ['outer', 'space'], ['rocket', 'metallic'], ['scorpion'], ['silver'], ['silver', 'chalice'], ['slate', 'blue'], ['slate', 'gray'], ['smoke'], ['smokey', 'gray'], ['sonic', 'gray'], ['spanish', 'gray'], ['stone', 'gray'], ['stormcloud'], ['taupe', 'gray'], ['timberwolf'], ['onyx'], ['payne’s', 'gray'], ['platinum'], ['pink', 'gray'], ['purple', 'gray'], ['rose', 'quartz'], ['vampire', 'gray'], ['white', 'smoke'], ['xanadu'], ['bright', 'gray'], ['x11', 'gray'], ['dark', 'silver'], ['pastel', 'gray'], ['dusty', 'gray'], ['misty', 'gray'], ['white', 'gray'], ['vintage', 'gray'], ['gentle', 'gray'], ['zombie', 'gray'], ['lavender', 'gray'], ['perfect', 'gray'], ['graphite', 'gray'], ['rustic', 'gray'], ['echo'], ['window', 'gray'], ['silk', 'gray'], ['light', 'gunmetal'], ['silver', 'pink'], ['matte', 'silver'], ['rhythm'], ['pure', 'silver'], ['dark', 'charcoal'], ['best', 'gray'], ['agreeable', 'gray'], ['oxford', 'gray'], ['antique', 'pewter'], ['warm', 'gray'], ['sage', 'gray'], ['dull', 'gray'], ['rich', 'gray'], ['ice', 'gray'], ['gray', 'cmyk'], ['solid', 'gray'], ['electric', 'gray'], ['templeton', 'gray'], ['chrome'], ['sea', 'gray'], ['glossy', 'gray'], ['anvil', 'gray'], ['chameleon', 'gray'], ['cement', 'gray'], ['steel', 'gray'], ['dorian', 'gray'], ['gun', 'smoke', 'gray'], ['camouflage', 'gray'], ['fashion', 'gray'], ['neutral', 'gray'], ['revere', 'pewter'], ['olive', 'gray'], ['metallic', 'gray'], ['french', 'gray'], ['iron'], ['pale', 'smoke'], ['bone'], ['heather'], ['true', 'silver'], ['power', 'gray'], ['storm', 'gray'], ['ultimate', 'gray'], ['rhino'], ['harbor', 'gray'], ['seal'], ['anchor'], ['abalone'], ['fossil'], ['mink'], ['trout'], ['thunder'], ['shades', 'on'], ['lava'], ['stone', 'eagle'], ['ice', 'cube'], ['porpoise'], ['flint'], ['dove'], ['gray', 'owl'], ['coin'], ['fog'], ['laid', 'back', 'gray']]\n"
     ]
    }
   ],
   "source": [
    "dr = webdriver.Chrome()\n",
    "dr.get('https://www.color-meanings.com/shades-of-gray-color-names-html-hex-rgb-codes')\n",
    "bs = BeautifulSoup(dr.page_source,\"lxml\")\n",
    "dr.close()\n",
    "\n",
    "# print(bs)\n",
    "color_names = []\n",
    "color_name_elements = bs.select('.entry-content p strong')\n",
    "for element in color_name_elements:\n",
    "    color_names.append(element.get_text().strip())\n",
    "\n",
    "color_names = list(map(lambda x: x.lower().split(' '), color_names))\n",
    "print(color_names)"
   ]
  },
  {
   "cell_type": "code",
   "execution_count": 99,
   "metadata": {},
   "outputs": [],
   "source": [
    "all_colors = list(map(preProcessColor,all_colors)) + color_names\n",
    "all_colors = set(list(reduce(lambda a,b: a+b, all_colors)))"
   ]
  },
  {
   "cell_type": "code",
   "execution_count": 100,
   "metadata": {},
   "outputs": [
    {
     "data": {
      "text/plain": [
       "(217,\n",
       " {'abalone',\n",
       "  'agreeable',\n",
       "  'alice',\n",
       "  'almond',\n",
       "  'anchor',\n",
       "  'antique',\n",
       "  'anvil',\n",
       "  'aqua',\n",
       "  'aquamarine',\n",
       "  'arsenic',\n",
       "  'ash',\n",
       "  'azure',\n",
       "  'back',\n",
       "  'battleship',\n",
       "  'beige',\n",
       "  'best',\n",
       "  'bisque',\n",
       "  'black',\n",
       "  'blanched',\n",
       "  'blue',\n",
       "  'blush',\n",
       "  'bone',\n",
       "  'brick',\n",
       "  'bright',\n",
       "  'brown',\n",
       "  'burly',\n",
       "  'cadet',\n",
       "  'camouflage',\n",
       "  'carbon',\n",
       "  'cement',\n",
       "  'chalice',\n",
       "  'chameleon',\n",
       "  'charcoal',\n",
       "  'chartreuse',\n",
       "  'chiffon',\n",
       "  'chocolate',\n",
       "  'chrome',\n",
       "  'cinereous',\n",
       "  'cloud',\n",
       "  'cmyk',\n",
       "  'coin',\n",
       "  'cool',\n",
       "  'coral',\n",
       "  'cornflower',\n",
       "  'cornsilk',\n",
       "  'cream',\n",
       "  'crimson',\n",
       "  'cube',\n",
       "  'cyan',\n",
       "  'dark',\n",
       "  'davy’s',\n",
       "  'deep',\n",
       "  'dew',\n",
       "  'dim',\n",
       "  'dodger',\n",
       "  'dolphin',\n",
       "  'dorian',\n",
       "  'dove',\n",
       "  'drab',\n",
       "  'dull',\n",
       "  'dusty',\n",
       "  'eagle',\n",
       "  'echo',\n",
       "  'electric',\n",
       "  'fashion',\n",
       "  'fire',\n",
       "  'flint',\n",
       "  'floral',\n",
       "  'fog',\n",
       "  'forest',\n",
       "  'fossil',\n",
       "  'french',\n",
       "  'fuchsia',\n",
       "  'gainsboro',\n",
       "  'gentle',\n",
       "  'ghost',\n",
       "  'glaucous',\n",
       "  'glossy',\n",
       "  'gold',\n",
       "  'golden',\n",
       "  'goose',\n",
       "  'graphite',\n",
       "  'gray',\n",
       "  'gray-green',\n",
       "  'green',\n",
       "  'grey',\n",
       "  'gun',\n",
       "  'gunmetal',\n",
       "  'harbor',\n",
       "  'heather',\n",
       "  'honey',\n",
       "  'hot',\n",
       "  'ice',\n",
       "  'indian',\n",
       "  'indigo',\n",
       "  'iron',\n",
       "  'ivory',\n",
       "  'jet',\n",
       "  'khaki',\n",
       "  'lace',\n",
       "  'laid',\n",
       "  'lava',\n",
       "  'lavender',\n",
       "  'lawn',\n",
       "  'lemon',\n",
       "  'light',\n",
       "  'lime',\n",
       "  'linen',\n",
       "  'magenta',\n",
       "  'marengo',\n",
       "  'marine',\n",
       "  'maroon',\n",
       "  'matte',\n",
       "  'medium',\n",
       "  'metallic',\n",
       "  'midnight',\n",
       "  'mink',\n",
       "  'mint',\n",
       "  'misty',\n",
       "  'moccasin',\n",
       "  'navajo',\n",
       "  'navy',\n",
       "  'neutral',\n",
       "  'nevada',\n",
       "  'nickel',\n",
       "  'old',\n",
       "  'olive',\n",
       "  'on',\n",
       "  'onyx',\n",
       "  'orange',\n",
       "  'orchid',\n",
       "  'outer',\n",
       "  'owl',\n",
       "  'oxford',\n",
       "  'pale',\n",
       "  'papaya',\n",
       "  'pastel',\n",
       "  'payne’s',\n",
       "  'peach',\n",
       "  'perfect',\n",
       "  'peru',\n",
       "  'pewter',\n",
       "  'pink',\n",
       "  'platinum',\n",
       "  'plum',\n",
       "  'porpoise',\n",
       "  'powder',\n",
       "  'power',\n",
       "  'puff',\n",
       "  'pure',\n",
       "  'purple',\n",
       "  'quartz',\n",
       "  'rebecca',\n",
       "  'red',\n",
       "  'revere',\n",
       "  'rhino',\n",
       "  'rhythm',\n",
       "  'rich',\n",
       "  'rocket',\n",
       "  'rod',\n",
       "  'rose',\n",
       "  'rosy',\n",
       "  'royal',\n",
       "  'rustic',\n",
       "  'saddle',\n",
       "  'sage',\n",
       "  'salmon',\n",
       "  'sandy',\n",
       "  'scorpion',\n",
       "  'sea',\n",
       "  'seal',\n",
       "  'shades',\n",
       "  'shell',\n",
       "  'sienna',\n",
       "  'silk',\n",
       "  'silver',\n",
       "  'sky',\n",
       "  'slate',\n",
       "  'smoke',\n",
       "  'smokey',\n",
       "  'snow',\n",
       "  'solid',\n",
       "  'sonic',\n",
       "  'space',\n",
       "  'spanish',\n",
       "  'sparkle',\n",
       "  'spring',\n",
       "  'steel',\n",
       "  'stone',\n",
       "  'storm',\n",
       "  'stormcloud',\n",
       "  'tan',\n",
       "  'taupe',\n",
       "  'teal',\n",
       "  'templeton',\n",
       "  'thistle',\n",
       "  'thunder',\n",
       "  'timberwolf',\n",
       "  'tomato',\n",
       "  'trout',\n",
       "  'true',\n",
       "  'turquoise',\n",
       "  'ultimate',\n",
       "  'vampire',\n",
       "  'vintage',\n",
       "  'violet',\n",
       "  'warm',\n",
       "  'wheat',\n",
       "  'whip',\n",
       "  'white',\n",
       "  'window',\n",
       "  'wolf',\n",
       "  'wood',\n",
       "  'x11',\n",
       "  'xanadu',\n",
       "  'yellow',\n",
       "  'zombie'})"
      ]
     },
     "execution_count": 100,
     "metadata": {},
     "output_type": "execute_result"
    }
   ],
   "source": [
    "len(all_colors),all_colors"
   ]
  },
  {
   "cell_type": "code",
   "execution_count": 101,
   "metadata": {},
   "outputs": [],
   "source": [
    "def color_subset(color):\n",
    "    for x in all_colors:\n",
    "        if x in color:\n",
    "            return False\n",
    "    return True"
   ]
  },
  {
   "cell_type": "code",
   "execution_count": 102,
   "metadata": {},
   "outputs": [],
   "source": [
    "stop_words = set(stopwords.words('english'))\n",
    "table = str.maketrans('', '', string.punctuation)\n",
    "\n",
    "#defining preprocessing of string fuction\n",
    "\n",
    "def preprocessing(text):\n",
    "  # Replace of unicode characters\n",
    "  text = unidecode(text,errors='replace')\n",
    "\n",
    "  # Convert all text to lowercase\n",
    "  text = text.lower()\n",
    "  \n",
    "  # Tokenize the text\n",
    "  tokens = word_tokenize(text)\n",
    "\n",
    "  # Remove stopwords\n",
    "  tokens = [token for token in tokens if not token in stop_words and token not in all_colors and color_subset(token) ]\n",
    "\n",
    "  # Remove punctuation\n",
    "  tokens = [token.translate(table) for token in tokens]\n",
    "\n",
    "  # Remove blank space tokens\n",
    "  tokens = [token for token in tokens if token.strip() and len(token) > 1]\n",
    "\n",
    "  # returning space saperated string of tokens\n",
    "  return ' '.join(tokens)\n"
   ]
  },
  {
   "cell_type": "code",
   "execution_count": 103,
   "metadata": {},
   "outputs": [],
   "source": [
    "url = 'https://lampsdepot.com/'"
   ]
  },
  {
   "cell_type": "code",
   "execution_count": 104,
   "metadata": {},
   "outputs": [],
   "source": [
    "fetch_data_org = []\n",
    "def fetch(url):\n",
    "    global fetch_data_org\n",
    "    response = requests.get(url + 'collections/all/products.json?page=1').json()\n",
    "    i=2\n",
    "    while response['products']:\n",
    "        fetch_data_org += response['products']\n",
    "        response = requests.get(url + 'collections/all/products.json?page=' + str(i)).json()\n",
    "        i += 1        "
   ]
  },
  {
   "cell_type": "code",
   "execution_count": 105,
   "metadata": {},
   "outputs": [],
   "source": [
    "fetch(url)"
   ]
  },
  {
   "cell_type": "code",
   "execution_count": 106,
   "metadata": {},
   "outputs": [
    {
     "data": {
      "text/plain": [
       "669"
      ]
     },
     "execution_count": 106,
     "metadata": {},
     "output_type": "execute_result"
    }
   ],
   "source": [
    "len(fetch_data_org)"
   ]
  },
  {
   "cell_type": "code",
   "execution_count": 107,
   "metadata": {},
   "outputs": [],
   "source": [
    "fetch_data = fetch_data_org[:10] #for testing the program on a small subset"
   ]
  },
  {
   "cell_type": "code",
   "execution_count": 108,
   "metadata": {},
   "outputs": [
    {
     "data": {
      "text/plain": [
       "10"
      ]
     },
     "execution_count": 108,
     "metadata": {},
     "output_type": "execute_result"
    }
   ],
   "source": [
    "len(fetch_data)"
   ]
  },
  {
   "cell_type": "code",
   "execution_count": 109,
   "metadata": {},
   "outputs": [],
   "source": [
    "data_dic = {}\n",
    "for product in fetch_data:\n",
    "    data_dic[product['id']] = product"
   ]
  },
  {
   "cell_type": "code",
   "execution_count": 110,
   "metadata": {},
   "outputs": [
    {
     "data": {
      "text/plain": [
       "dict_keys([6812735111215, 6812735275055, 6813243408431, 8392243675465, 8402364531017, 8392204976457, 8401983996233, 8392250261833, 8401874288969, 8040171897126])"
      ]
     },
     "execution_count": 110,
     "metadata": {},
     "output_type": "execute_result"
    }
   ],
   "source": [
    "data_dic.keys()"
   ]
  },
  {
   "cell_type": "code",
   "execution_count": 111,
   "metadata": {},
   "outputs": [],
   "source": [
    "def compare_images(image_url1, image_url2):\n",
    "    # Download and read the images\n",
    "    response1 = requests.get(image_url1, stream=True).raw\n",
    "    response2 = requests.get(image_url2, stream=True).raw\n",
    "    image1 = cv2.imdecode(np.asarray(bytearray(response1.read()), dtype=np.uint8), cv2.IMREAD_COLOR)\n",
    "    image2 = cv2.imdecode(np.asarray(bytearray(response2.read()), dtype=np.uint8), cv2.IMREAD_COLOR)\n",
    "\n",
    "    # Resize the images to the same dimensions\n",
    "    image1 = cv2.resize(image1, (max(len(image1),len(image2)), max(len(image1[0]),len(image2[0]))))\n",
    "    image2 = cv2.resize(image2, (max(len(image1),len(image2)), max(len(image1[0]),len(image2[0]))))\n",
    "\n",
    "    # Perform background removal using image segmentation\n",
    "    foreground1 = remove_background(image1)\n",
    "    foreground2 = remove_background(image2)\n",
    "\n",
    "    # Convert the foreground images to grayscale\n",
    "    gray1 = cv2.cvtColor(foreground1, cv2.COLOR_BGR2GRAY)\n",
    "    gray2 = cv2.cvtColor(foreground2, cv2.COLOR_BGR2GRAY)\n",
    "\n",
    "    gray1 = cv2.resize(gray1, (max(len(gray1),len(gray2)), max(len(gray1[0]),len(gray2[0]))))\n",
    "    gray2 = cv2.resize(gray2, (max(len(gray1),len(gray2)), max(len(gray1[0]),len(gray2[0]))))\n",
    "\n",
    "    # Calculate the structural similarity index\n",
    "    similarity_score = ssim(gray1, gray2)\n",
    "\n",
    "    return similarity_score\n",
    "\n",
    "def remove_background(image):\n",
    "    # Convert the image to grayscale\n",
    "    gray = cv2.cvtColor(image, cv2.COLOR_BGR2GRAY)\n",
    "\n",
    "    # Apply image segmentation (e.g., using thresholding or more advanced techniques)\n",
    "    # Here's an example of using adaptive thresholding\n",
    "    _, binary_mask = cv2.threshold(gray, 0, 255, cv2.THRESH_BINARY + cv2.THRESH_OTSU)\n",
    "\n",
    "    # Apply the binary mask to extract the foreground\n",
    "    foreground = cv2.bitwise_and(image, image, mask=binary_mask)\n",
    "\n",
    "    return foreground\n"
   ]
  },
  {
   "cell_type": "code",
   "execution_count": 112,
   "metadata": {},
   "outputs": [],
   "source": [
    "def compare_product_images(product1, product2):\n",
    "    with Pool(processes = 5) as pool:\n",
    "        combination = [(x['src'],y['src']) for x in product1['images'] for y in product2['images']]\n",
    "        results_async = pool.starmap_async(compare_images, combination)\n",
    "        results = results_async.get()\n",
    "        pool.close()\n",
    "        pool.join()\n",
    "        return results\n"
   ]
  },
  {
   "cell_type": "code",
   "execution_count": 114,
   "metadata": {},
   "outputs": [],
   "source": [
    "def compare_string(a, b):\n",
    "    return SequenceMatcher(None,preprocessing(a),preprocessing(b)).ratio()"
   ]
  },
  {
   "cell_type": "code",
   "execution_count": null,
   "metadata": {},
   "outputs": [],
   "source": []
  },
  {
   "cell_type": "code",
   "execution_count": 115,
   "metadata": {},
   "outputs": [],
   "source": [
    "similar_products = {}\n",
    "visited_products = set([])"
   ]
  },
  {
   "cell_type": "code",
   "execution_count": 116,
   "metadata": {},
   "outputs": [],
   "source": [
    "for id in data_dic.keys():\n",
    "    similar_products[id] = set([])"
   ]
  },
  {
   "cell_type": "code",
   "execution_count": 117,
   "metadata": {},
   "outputs": [
    {
     "data": {
      "text/plain": [
       "{6812735111215: set(),\n",
       " 6812735275055: set(),\n",
       " 6813243408431: set(),\n",
       " 8392243675465: set(),\n",
       " 8402364531017: set(),\n",
       " 8392204976457: set(),\n",
       " 8401983996233: set(),\n",
       " 8392250261833: set(),\n",
       " 8401874288969: set(),\n",
       " 8040171897126: set()}"
      ]
     },
     "execution_count": 117,
     "metadata": {},
     "output_type": "execute_result"
    }
   ],
   "source": [
    "similar_products"
   ]
  },
  {
   "cell_type": "code",
   "execution_count": 118,
   "metadata": {},
   "outputs": [],
   "source": [
    "def find_valid_path(x,y,v):\n",
    "    v.add(x)\n",
    "    if y in similar_products[x]:\n",
    "        return True\n",
    "    t = False\n",
    "    for node in similar_products[x]:\n",
    "        if node not in v:\n",
    "            t |= find_valid_path(node,y,v)\n",
    "    return t"
   ]
  },
  {
   "cell_type": "code",
   "execution_count": 119,
   "metadata": {},
   "outputs": [],
   "source": [
    "\n",
    "def add_product(product1, product2):\n",
    "    global i\n",
    "    comp = compare_string(product1['title'], product2['title'])\n",
    "    max_image = max(compare_product_images(product1, product2))\n",
    "    if product1 != product2 and product1['product_type'] == product2['product_type'] and not find_valid_path(product1['id'],product2['id'],set([])) and (\n",
    "        comp >= 0.55\n",
    "        or max_image >= 0.8\n",
    "    ):\n",
    "        similar_products[product1['id']].add(product2['id'])\n",
    "        similar_products[product2['id']].add(product1['id'])\n",
    "        print(i,product1['id'],product2['id'])\n",
    "\n",
    "    else:\n",
    "        print(i)\n",
    "\n",
    "    i+=1\n"
   ]
  },
  {
   "cell_type": "code",
   "execution_count": 120,
   "metadata": {},
   "outputs": [
    {
     "name": "stdout",
     "output_type": "stream",
     "text": [
      "0 6812735111215 6812735275055\n",
      "1\n",
      "2\n",
      "3\n",
      "4\n",
      "5\n",
      "6\n",
      "7\n",
      "8\n",
      "9\n",
      "10\n",
      "11\n",
      "12\n",
      "13\n",
      "14\n",
      "15\n",
      "16\n",
      "17\n",
      "18\n",
      "19\n",
      "20\n",
      "21\n",
      "22\n",
      "23\n",
      "24 8392243675465 8402364531017\n",
      "25 8392243675465 8392204976457\n",
      "26 8392243675465 8401983996233\n",
      "27 8392243675465 8392250261833\n",
      "28 8392243675465 8401874288969\n",
      "29\n",
      "30\n",
      "31\n",
      "32\n",
      "33\n",
      "34\n",
      "35\n",
      "36\n",
      "37\n",
      "38\n",
      "39\n",
      "40\n",
      "41\n",
      "42\n",
      "43\n",
      "44\n"
     ]
    }
   ],
   "source": [
    "# with Pool(processes = 4) as pool:\n",
    "#     combination = list(combinations(fetch_data, 2))\n",
    "#     results_async = pool.starmap_async(add_product, combination)\n",
    "#     results = results_async.get()\n",
    "#     pool.close()\n",
    "#     pool.join()\n",
    "#     print(results)\n",
    "\n",
    "i=0\n",
    "for product1_index in range(len(fetch_data)):\n",
    "    for product2_index in range(product1_index+1, len(fetch_data)):\n",
    "        add_product(fetch_data[product1_index], fetch_data[product2_index])\n",
    "\n",
    "        save_file = open(\"tempsavedata.txt\", \"w\")\n",
    "        save_file.write('\\nproduct1_index:'+str(product1_index)+'\\nproduct2_index:'+str(product2_index)+'\\n'+str(similar_products)+'\\n')\n",
    "        save_file.close()\n",
    "\n"
   ]
  },
  {
   "cell_type": "code",
   "execution_count": 121,
   "metadata": {},
   "outputs": [
    {
     "data": {
      "text/plain": [
       "{6812735111215: {6812735275055},\n",
       " 6812735275055: {6812735111215},\n",
       " 6813243408431: set(),\n",
       " 8392243675465: {8392204976457,\n",
       "  8392250261833,\n",
       "  8401874288969,\n",
       "  8401983996233,\n",
       "  8402364531017},\n",
       " 8402364531017: {8392243675465},\n",
       " 8392204976457: {8392243675465},\n",
       " 8401983996233: {8392243675465},\n",
       " 8392250261833: {8392243675465},\n",
       " 8401874288969: {8392243675465},\n",
       " 8040171897126: set()}"
      ]
     },
     "execution_count": 121,
     "metadata": {},
     "output_type": "execute_result"
    }
   ],
   "source": [
    "similar_products"
   ]
  },
  {
   "cell_type": "code",
   "execution_count": null,
   "metadata": {},
   "outputs": [],
   "source": []
  },
  {
   "cell_type": "code",
   "execution_count": 122,
   "metadata": {},
   "outputs": [],
   "source": [
    "final_response = []"
   ]
  },
  {
   "cell_type": "code",
   "execution_count": 123,
   "metadata": {},
   "outputs": [],
   "source": [
    "def connected_component_util(x,l):\n",
    "    l.add(x)\n",
    "    visited_products.add(x)\n",
    "    for node in similar_products[x]:\n",
    "        if node not in visited_products:\n",
    "            connected_component_util(node,l)\n",
    "\n",
    "\n",
    "def connected_components():\n",
    "    for product_id in similar_products:\n",
    "        if product_id not in visited_products:\n",
    "            similar_prod_set = set([])\n",
    "            connected_component_util(product_id, similar_prod_set)\n",
    "            final_response.append({'product alternates': list(similar_prod_set)})\n"
   ]
  },
  {
   "cell_type": "code",
   "execution_count": 124,
   "metadata": {},
   "outputs": [],
   "source": [
    "connected_components()"
   ]
  },
  {
   "cell_type": "code",
   "execution_count": 125,
   "metadata": {},
   "outputs": [
    {
     "data": {
      "text/plain": [
       "[{'product alternates': [6812735275055, 6812735111215]},\n",
       " {'product alternates': [6813243408431]},\n",
       " {'product alternates': [8392204976457,\n",
       "   8392243675465,\n",
       "   8401983996233,\n",
       "   8401874288969,\n",
       "   8402364531017,\n",
       "   8392250261833]},\n",
       " {'product alternates': [8040171897126]}]"
      ]
     },
     "execution_count": 125,
     "metadata": {},
     "output_type": "execute_result"
    }
   ],
   "source": [
    "final_response"
   ]
  },
  {
   "cell_type": "code",
   "execution_count": 126,
   "metadata": {},
   "outputs": [],
   "source": [
    "for alt in final_response:\n",
    "    alt['product alternates'] = list(map(lambda x: url+'products/'+data_dic[x]['handle'], alt['product alternates']))"
   ]
  },
  {
   "cell_type": "code",
   "execution_count": 127,
   "metadata": {},
   "outputs": [
    {
     "data": {
      "text/plain": [
       "[{'product alternates': ['https://www.woolsboutiqueuomo.com/products/handamde-cashmere-scarf-19andreas47',\n",
       "   'https://www.woolsboutiqueuomo.com/products/cashmere-shrug-stole-shawl-multicolor']},\n",
       " {'product alternates': ['https://www.woolsboutiqueuomo.com/products/amelie-flowers-cashmere-scarf']},\n",
       " {'product alternates': ['https://www.woolsboutiqueuomo.com/products/borriello-light-blue-classic-denim-shirt',\n",
       "   'https://www.woolsboutiqueuomo.com/products/borriello-dark-blue-classic-denim-shirt',\n",
       "   'https://www.woolsboutiqueuomo.com/products/borriello-light-blue-shirt-poplin-cotton',\n",
       "   'https://www.woolsboutiqueuomo.com/products/borriello-poplin-cotton-white-shirt',\n",
       "   'https://www.woolsboutiqueuomo.com/products/borriello-light-blue-white-striped-shirt',\n",
       "   'https://www.woolsboutiqueuomo.com/products/borriello-light-blue-western-denim-shirt']},\n",
       " {'product alternates': ['https://www.woolsboutiqueuomo.com/products/caramel-palm-cashmere-scarf-19andreas47']}]"
      ]
     },
     "execution_count": 127,
     "metadata": {},
     "output_type": "execute_result"
    }
   ],
   "source": [
    "final_response"
   ]
  },
  {
   "cell_type": "code",
   "execution_count": 129,
   "metadata": {},
   "outputs": [],
   "source": [
    "output_file = open('output.txt','w')\n",
    "output_file.write(str(final_response))\n",
    "output_file.close()"
   ]
  },
  {
   "cell_type": "code",
   "execution_count": null,
   "metadata": {},
   "outputs": [],
   "source": []
  }
 ],
 "metadata": {
  "kernelspec": {
   "display_name": "Python 3",
   "language": "python",
   "name": "python3"
  },
  "language_info": {
   "codemirror_mode": {
    "name": "ipython",
    "version": 3
   },
   "file_extension": ".py",
   "mimetype": "text/x-python",
   "name": "python",
   "nbconvert_exporter": "python",
   "pygments_lexer": "ipython3",
   "version": "3.10.6"
  },
  "orig_nbformat": 4
 },
 "nbformat": 4,
 "nbformat_minor": 2
}
